{
 "cells": [
  {
   "cell_type": "markdown",
   "metadata": {
    "id": "MF47DSPemrnX",
    "papermill": {
     "duration": 0.036999,
     "end_time": "2021-02-13T14:48:39.649278",
     "exception": false,
     "start_time": "2021-02-13T14:48:39.612279",
     "status": "completed"
    },
    "tags": []
   },
   "source": [
    "# ML Regression Algorithms from Scratch - Polynomial Regression "
   ]
  },
  {
   "cell_type": "markdown",
   "metadata": {
    "id": "bGjv_UdtP999",
    "papermill": {
     "duration": 0.035679,
     "end_time": "2021-02-13T14:48:39.722328",
     "exception": false,
     "start_time": "2021-02-13T14:48:39.686649",
     "status": "completed"
    },
    "tags": []
   },
   "source": [
    "## Introduction"
   ]
  },
  {
   "cell_type": "markdown",
   "metadata": {
    "id": "klk23LsZQC0M",
    "papermill": {
     "duration": 0.035912,
     "end_time": "2021-02-13T14:48:39.795595",
     "exception": false,
     "start_time": "2021-02-13T14:48:39.759683",
     "status": "completed"
    },
    "tags": []
   },
   "source": [
    "In this notebook, first, we implement Polynomial Regression from Scratch using Numpy without Sklearn. After the scratch implementation, we also implement the Polynomial Regression using Sklearn and compare the two models. The complete code is written and executed in Google Colab. No need of installing any additional packages is required. Download this notebook and upload to Google Colab to run it by yourself. Don't forget to grab your Datasets! \n",
    "\n",
    "The Dataset used here is the **Position_Salaries** dataset provided by the Super Data Science Team under their programme **Machine Learning A-Z: Hands on Python & R in Data Science**. Find the various datasets provided by them [here](https://www.superdatascience.com/pages/machine-learning).\n",
    "\n",
    "**Response Variable** : Position\n",
    "\n",
    "**Target Variable** : Salary\n",
    "\n",
    "**Equation Used** : $y = W0 * X0 + W1 * X1 + W2 * X1^{2} + .... + WN * X1^{N}$\n",
    "\n",
    "**Why Linear?**\n",
    "\n",
    "A genuine question can be \"If the equation contain powers greater than one, how come it is **linear** regression?\" It's a great question! Note that the powers of $X$ are greater than one and these are actually constants. We have these values in our dataset. We care more about $W$ and the equation combines these product of $W$ and $X$ linearly i.e it has the linear combination of these terms.\n",
    "\n",
    "\n",
    "**For Scratch Implementation:**\n",
    "    \n",
    "    Loss Function : Squared Error\n",
    "\n",
    "    Optimization Algorithm : SGD\n",
    "\n",
    "    Weight Initialization : Xavier Initialization\n",
    "\n"
   ]
  },
  {
   "cell_type": "markdown",
   "metadata": {
    "id": "saI5S98Fkvx8",
    "papermill": {
     "duration": 0.037305,
     "end_time": "2021-02-13T14:48:39.870454",
     "exception": false,
     "start_time": "2021-02-13T14:48:39.833149",
     "status": "completed"
    },
    "tags": []
   },
   "source": [
    "## Polynomial Regression from Scratch without SKlearn"
   ]
  },
  {
   "cell_type": "markdown",
   "metadata": {
    "id": "DXvL5a1RlAzE",
    "papermill": {
     "duration": 0.035498,
     "end_time": "2021-02-13T14:48:39.941523",
     "exception": false,
     "start_time": "2021-02-13T14:48:39.906025",
     "status": "completed"
    },
    "tags": []
   },
   "source": [
    "### Importing the Dependencies"
   ]
  },
  {
   "cell_type": "code",
   "execution_count": 1,
   "metadata": {
    "execution": {
     "iopub.execute_input": "2021-02-13T14:48:40.019015Z",
     "iopub.status.busy": "2021-02-13T14:48:40.018182Z",
     "iopub.status.idle": "2021-02-13T14:48:40.022642Z",
     "shell.execute_reply": "2021-02-13T14:48:40.021977Z"
    },
    "id": "GXI1413Foust",
    "papermill": {
     "duration": 0.045947,
     "end_time": "2021-02-13T14:48:40.022857",
     "exception": false,
     "start_time": "2021-02-13T14:48:39.976910",
     "status": "completed"
    },
    "tags": []
   },
   "outputs": [],
   "source": [
    "#importing the required packages\n",
    "import numpy as np\n",
    "import pandas as pd\n",
    "import matplotlib.pyplot as plt"
   ]
  },
  {
   "cell_type": "markdown",
   "metadata": {
    "id": "s0J-6GLhlFxE",
    "papermill": {
     "duration": 0.035211,
     "end_time": "2021-02-13T14:48:40.094129",
     "exception": false,
     "start_time": "2021-02-13T14:48:40.058918",
     "status": "completed"
    },
    "tags": []
   },
   "source": [
    "### Get the Data and Data Preprocessing"
   ]
  },
  {
   "cell_type": "code",
   "execution_count": 2,
   "metadata": {
    "execution": {
     "iopub.execute_input": "2021-02-13T14:48:40.171340Z",
     "iopub.status.busy": "2021-02-13T14:48:40.170671Z",
     "iopub.status.idle": "2021-02-13T14:48:40.187530Z",
     "shell.execute_reply": "2021-02-13T14:48:40.186678Z"
    },
    "id": "Kr3QiE8Jf3Pa",
    "papermill": {
     "duration": 0.057827,
     "end_time": "2021-02-13T14:48:40.187727",
     "exception": false,
     "start_time": "2021-02-13T14:48:40.129900",
     "status": "completed"
    },
    "tags": []
   },
   "outputs": [],
   "source": [
    "#Get the dataset\n",
    "dataset = pd.read_csv(r'../input/position-salaries-by-superdatascienceteam/Position_Salaries.csv')"
   ]
  },
  {
   "cell_type": "code",
   "execution_count": 3,
   "metadata": {
    "execution": {
     "iopub.execute_input": "2021-02-13T14:48:40.277477Z",
     "iopub.status.busy": "2021-02-13T14:48:40.276621Z",
     "iopub.status.idle": "2021-02-13T14:48:40.293523Z",
     "shell.execute_reply": "2021-02-13T14:48:40.292863Z"
    },
    "id": "y8hHhyM1BuIb",
    "outputId": "1d98839e-25da-4674-ecf8-fd57ce5dc466",
    "papermill": {
     "duration": 0.068585,
     "end_time": "2021-02-13T14:48:40.293678",
     "exception": false,
     "start_time": "2021-02-13T14:48:40.225093",
     "status": "completed"
    },
    "tags": []
   },
   "outputs": [
    {
     "data": {
      "text/html": [
       "<div>\n",
       "<style scoped>\n",
       "    .dataframe tbody tr th:only-of-type {\n",
       "        vertical-align: middle;\n",
       "    }\n",
       "\n",
       "    .dataframe tbody tr th {\n",
       "        vertical-align: top;\n",
       "    }\n",
       "\n",
       "    .dataframe thead th {\n",
       "        text-align: right;\n",
       "    }\n",
       "</style>\n",
       "<table border=\"1\" class=\"dataframe\">\n",
       "  <thead>\n",
       "    <tr style=\"text-align: right;\">\n",
       "      <th></th>\n",
       "      <th>Position</th>\n",
       "      <th>Level</th>\n",
       "      <th>Salary</th>\n",
       "    </tr>\n",
       "  </thead>\n",
       "  <tbody>\n",
       "    <tr>\n",
       "      <th>0</th>\n",
       "      <td>Business Analyst</td>\n",
       "      <td>1</td>\n",
       "      <td>45000</td>\n",
       "    </tr>\n",
       "    <tr>\n",
       "      <th>1</th>\n",
       "      <td>Junior Consultant</td>\n",
       "      <td>2</td>\n",
       "      <td>50000</td>\n",
       "    </tr>\n",
       "    <tr>\n",
       "      <th>2</th>\n",
       "      <td>Senior Consultant</td>\n",
       "      <td>3</td>\n",
       "      <td>60000</td>\n",
       "    </tr>\n",
       "    <tr>\n",
       "      <th>3</th>\n",
       "      <td>Manager</td>\n",
       "      <td>4</td>\n",
       "      <td>80000</td>\n",
       "    </tr>\n",
       "    <tr>\n",
       "      <th>4</th>\n",
       "      <td>Country Manager</td>\n",
       "      <td>5</td>\n",
       "      <td>110000</td>\n",
       "    </tr>\n",
       "  </tbody>\n",
       "</table>\n",
       "</div>"
      ],
      "text/plain": [
       "            Position  Level  Salary\n",
       "0   Business Analyst      1   45000\n",
       "1  Junior Consultant      2   50000\n",
       "2  Senior Consultant      3   60000\n",
       "3            Manager      4   80000\n",
       "4    Country Manager      5  110000"
      ]
     },
     "execution_count": 3,
     "metadata": {},
     "output_type": "execute_result"
    }
   ],
   "source": [
    "#Get a glimpse of the Dataset\n",
    "dataset.head()"
   ]
  },
  {
   "cell_type": "code",
   "execution_count": 4,
   "metadata": {
    "execution": {
     "iopub.execute_input": "2021-02-13T14:48:40.381957Z",
     "iopub.status.busy": "2021-02-13T14:48:40.380994Z",
     "iopub.status.idle": "2021-02-13T14:48:40.384472Z",
     "shell.execute_reply": "2021-02-13T14:48:40.383867Z"
    },
    "id": "ake97iPi8_I7",
    "papermill": {
     "duration": 0.047251,
     "end_time": "2021-02-13T14:48:40.384616",
     "exception": false,
     "start_time": "2021-02-13T14:48:40.337365",
     "status": "completed"
    },
    "tags": []
   },
   "outputs": [],
   "source": [
    "#Separating the independent and dependent features\n",
    "#Dependent feature\n",
    "y = np.asarray(dataset['Salary'].values.tolist()) \n",
    "\n",
    "# Independent Feature\n",
    "X = np.asarray(dataset['Level'].values.tolist())"
   ]
  },
  {
   "cell_type": "code",
   "execution_count": 5,
   "metadata": {
    "execution": {
     "iopub.execute_input": "2021-02-13T14:48:40.464429Z",
     "iopub.status.busy": "2021-02-13T14:48:40.463735Z",
     "iopub.status.idle": "2021-02-13T14:48:40.466172Z",
     "shell.execute_reply": "2021-02-13T14:48:40.466765Z"
    },
    "id": "kg7PYvQJw0Ry",
    "papermill": {
     "duration": 0.045231,
     "end_time": "2021-02-13T14:48:40.466941",
     "exception": false,
     "start_time": "2021-02-13T14:48:40.421710",
     "status": "completed"
    },
    "tags": []
   },
   "outputs": [],
   "source": [
    "# Reshaping the independent feature\n",
    "X = X.reshape(-1,1)"
   ]
  },
  {
   "cell_type": "code",
   "execution_count": 6,
   "metadata": {
    "execution": {
     "iopub.execute_input": "2021-02-13T14:48:40.545455Z",
     "iopub.status.busy": "2021-02-13T14:48:40.544818Z",
     "iopub.status.idle": "2021-02-13T14:48:40.550931Z",
     "shell.execute_reply": "2021-02-13T14:48:40.550202Z"
    },
    "id": "iZhxeXCPi8Rd",
    "papermill": {
     "duration": 0.046039,
     "end_time": "2021-02-13T14:48:40.551092",
     "exception": false,
     "start_time": "2021-02-13T14:48:40.505053",
     "status": "completed"
    },
    "tags": []
   },
   "outputs": [],
   "source": [
    "#Reshaping the Dependent features\n",
    "y = y.reshape(len(y),1) # Changing the shape from (50,) to (50,1)"
   ]
  },
  {
   "cell_type": "code",
   "execution_count": 7,
   "metadata": {
    "execution": {
     "iopub.execute_input": "2021-02-13T14:48:40.635020Z",
     "iopub.status.busy": "2021-02-13T14:48:40.634196Z",
     "iopub.status.idle": "2021-02-13T14:48:40.639423Z",
     "shell.execute_reply": "2021-02-13T14:48:40.638557Z"
    },
    "id": "DaSyDT_fGlf5",
    "outputId": "0027396b-6d9a-4e27-d182-bd1e0de2baf8",
    "papermill": {
     "duration": 0.05097,
     "end_time": "2021-02-13T14:48:40.639645",
     "exception": false,
     "start_time": "2021-02-13T14:48:40.588675",
     "status": "completed"
    },
    "tags": []
   },
   "outputs": [
    {
     "name": "stdout",
     "output_type": "stream",
     "text": [
      "The shape of the independent fatures are  (10, 1)\n",
      "The shape of the dependent fatures are  (10, 1)\n"
     ]
    }
   ],
   "source": [
    "#Get the shapes of X and y\n",
    "print(\"The shape of the independent fatures are \",X.shape)\n",
    "print(\"The shape of the dependent fatures are \",y.shape)"
   ]
  },
  {
   "cell_type": "markdown",
   "metadata": {
    "id": "TEAUmgwclN5d",
    "papermill": {
     "duration": 0.037663,
     "end_time": "2021-02-13T14:48:40.715836",
     "exception": false,
     "start_time": "2021-02-13T14:48:40.678173",
     "status": "completed"
    },
    "tags": []
   },
   "source": [
    "### Utility Methods"
   ]
  },
  {
   "cell_type": "code",
   "execution_count": 8,
   "metadata": {
    "execution": {
     "iopub.execute_input": "2021-02-13T14:48:40.800782Z",
     "iopub.status.busy": "2021-02-13T14:48:40.799748Z",
     "iopub.status.idle": "2021-02-13T14:48:40.802756Z",
     "shell.execute_reply": "2021-02-13T14:48:40.803265Z"
    },
    "id": "Rl7z014BRVlI",
    "papermill": {
     "duration": 0.049646,
     "end_time": "2021-02-13T14:48:40.803484",
     "exception": false,
     "start_time": "2021-02-13T14:48:40.753838",
     "status": "completed"
    },
    "tags": []
   },
   "outputs": [],
   "source": [
    "# The method \"poly_features\" concatenates polynomials of independent feature to X\n",
    "# This is similar to PolynomialFeatures class from sklearn.preprocessing\n",
    "def poly_features(features, X):\n",
    "  data = pd.DataFrame(np.zeros((X.shape[0],features)))\n",
    "  for i in range(1,features+1):\n",
    "    data.iloc[:,i-1] = (X**i).reshape(-1,1)\n",
    "  X_poly = np.array(data.values.tolist())\n",
    "  return X_poly"
   ]
  },
  {
   "cell_type": "code",
   "execution_count": 9,
   "metadata": {
    "execution": {
     "iopub.execute_input": "2021-02-13T14:48:40.889470Z",
     "iopub.status.busy": "2021-02-13T14:48:40.888672Z",
     "iopub.status.idle": "2021-02-13T14:48:40.893083Z",
     "shell.execute_reply": "2021-02-13T14:48:40.892363Z"
    },
    "id": "sMFw3Ps4IjIY",
    "papermill": {
     "duration": 0.050685,
     "end_time": "2021-02-13T14:48:40.893270",
     "exception": false,
     "start_time": "2021-02-13T14:48:40.842585",
     "status": "completed"
    },
    "tags": []
   },
   "outputs": [],
   "source": [
    "# The method \"split_data\" splits the given dataset into trainset and testset\n",
    "# This is similar to the method \"train_test_split\" from \"sklearn.model_selection\"\n",
    "def split_data(X,y,test_size=0.2,random_state=0):\n",
    "    np.random.seed(random_state)                  #set the seed for reproducible results\n",
    "    indices = np.random.permutation(len(X))       #shuffling the indices\n",
    "    data_test_size = int(X.shape[0] * test_size)  #Get the test size\n",
    "\n",
    "    #Separating the Independent and Dependent features into the Train and Test Set\n",
    "    train_indices = indices[data_test_size:]\n",
    "    test_indices = indices[:data_test_size]\n",
    "    X_train = X[train_indices]\n",
    "    y_train = y[train_indices]\n",
    "    X_test = X[test_indices]\n",
    "    y_test = y[test_indices]\n",
    "    return X_train, y_train, X_test, y_test"
   ]
  },
  {
   "cell_type": "code",
   "execution_count": 10,
   "metadata": {
    "execution": {
     "iopub.execute_input": "2021-02-13T14:48:40.976765Z",
     "iopub.status.busy": "2021-02-13T14:48:40.975729Z",
     "iopub.status.idle": "2021-02-13T14:48:40.979207Z",
     "shell.execute_reply": "2021-02-13T14:48:40.979768Z"
    },
    "id": "RvTLCV2VqAZ4",
    "papermill": {
     "duration": 0.048692,
     "end_time": "2021-02-13T14:48:40.979971",
     "exception": false,
     "start_time": "2021-02-13T14:48:40.931279",
     "status": "completed"
    },
    "tags": []
   },
   "outputs": [],
   "source": [
    "# The method pred_to_plot returns predictions on given values and helps in\n",
    "# better visualization\n",
    "def pred_to_plot(W_trained, X):\n",
    "  prediction_values = list()\n",
    "  for i in range(X.shape[0]):\n",
    "    value = regressor.predict(W_trained,X[i])\n",
    "    prediction_values.append(value)\n",
    "  return prediction_values"
   ]
  },
  {
   "cell_type": "markdown",
   "metadata": {
    "id": "pjKljivClbWf",
    "papermill": {
     "duration": 0.037792,
     "end_time": "2021-02-13T14:48:41.055895",
     "exception": false,
     "start_time": "2021-02-13T14:48:41.018103",
     "status": "completed"
    },
    "tags": []
   },
   "source": [
    "### Coding the polynomialRegression Class"
   ]
  },
  {
   "cell_type": "code",
   "execution_count": 11,
   "metadata": {
    "execution": {
     "iopub.execute_input": "2021-02-13T14:48:41.153370Z",
     "iopub.status.busy": "2021-02-13T14:48:41.142097Z",
     "iopub.status.idle": "2021-02-13T14:48:41.156527Z",
     "shell.execute_reply": "2021-02-13T14:48:41.155846Z"
    },
    "id": "mBt41FyrunIl",
    "papermill": {
     "duration": 0.062543,
     "end_time": "2021-02-13T14:48:41.156691",
     "exception": false,
     "start_time": "2021-02-13T14:48:41.094148",
     "status": "completed"
    },
    "tags": []
   },
   "outputs": [],
   "source": [
    "class polynomialRegression():\n",
    "\n",
    "  def __init__(self):\n",
    "    #No instance Variables required\n",
    "    pass\n",
    "\n",
    "  def forward(self,X,y,W):\n",
    "    \"\"\"\n",
    "    Parameters:\n",
    "    X (array) : Independent Features\n",
    "    y (array) : Dependent Features/ Target Variable\n",
    "    W (array) : Weights \n",
    "\n",
    "    Returns:\n",
    "    loss (float) : Calculated Sqaured Error Loss for y and y_pred\n",
    "    y_pred (array) : Predicted Target Variable\n",
    "    \"\"\"\n",
    "    y_pred = sum(W * X)\n",
    "    loss = ((y_pred-y)**2)/2    #Loss = Squared Error, we introduce 1/2 for ease in the calculation\n",
    "    return loss, y_pred\n",
    "\n",
    "  def updateWeights(self,X,y_pred,y_true,W,alpha,index):\n",
    "    \"\"\"\n",
    "    Parameters:\n",
    "    X (array) : Independent Features\n",
    "    y_pred (array) : Predicted Target Variable\n",
    "    y_true (array) : Dependent Features/ Target Variable\n",
    "    W (array) : Weights\n",
    "    alpha (float) : learning rate\n",
    "    index (int) : Index to fetch the corresponding values of W, X and y \n",
    "\n",
    "    Returns:\n",
    "    W (array) : Update Values of Weight\n",
    "    \"\"\"\n",
    "    for i in range(X.shape[1]):\n",
    "      #alpha = learning rate, rest of the RHS is derivative of loss function\n",
    "      W[i] -= (alpha * (y_pred-y_true[index])*X[index][i]) \n",
    "    return W\n",
    "\n",
    "  def train(self, X, y, epochs=10, alpha=0.001, random_state=0):\n",
    "    \"\"\"\n",
    "    Parameters:\n",
    "    X (array) : Independent Feature\n",
    "    y (array) : Dependent Features/ Target Variable\n",
    "    epochs (int) : Number of epochs for training, default value is 10\n",
    "    alpha (float) : learning rate, default value is 0.001\n",
    "\n",
    "    Returns:\n",
    "    y_pred (array) : Predicted Target Variable\n",
    "    loss (float) : Calculated Sqaured Error Loss for y and y_pred\n",
    "    \"\"\"\n",
    "\n",
    "    num_rows = X.shape[0] #Number of Rows\n",
    "    num_cols = X.shape[1] #Number of Columns \n",
    "    W = np.random.randn(1,num_cols) / np.sqrt(num_rows) #Weight Initialization\n",
    "\n",
    "    #Calculating Loss and Updating Weights\n",
    "    train_loss = []\n",
    "    num_epochs = []\n",
    "    train_indices = [i for i in range(X.shape[0])]\n",
    "    for j in range(epochs):\n",
    "      cost=0\n",
    "      np.random.seed(random_state)\n",
    "      np.random.shuffle(train_indices)\n",
    "      for i in train_indices:\n",
    "        loss, y_pred = self.forward(X[i],y[i],W[0])\n",
    "        cost+=loss\n",
    "        W[0] = self.updateWeights(X,y_pred,y,W[0],alpha,i)\n",
    "      train_loss.append(cost)\n",
    "      num_epochs.append(j)\n",
    "    return W[0], train_loss, num_epochs\n",
    "\n",
    "  def test(self, X_test, y_test, W_trained):\n",
    "    \"\"\"\n",
    "    Parameters:\n",
    "    X_test (array) : Independent Features from the Test Set\n",
    "    y_test (array) : Dependent Features/ Target Variable from the Test Set\n",
    "    W_trained (array) : Trained Weights\n",
    "    test_indices (list) : Index to fetch the corresponding values of W_trained,\n",
    "                          X_test and y_test \n",
    "\n",
    "    Returns:\n",
    "    test_pred (list) : Predicted Target Variable\n",
    "    test_loss (list) : Calculated Sqaured Error Loss for y and y_pred\n",
    "    \"\"\"\n",
    "    test_pred = []\n",
    "    test_loss = []\n",
    "    test_indices = [i for i in range(X_test.shape[0])]\n",
    "    for i in test_indices:\n",
    "        loss, y_test_pred = self.forward(X_test[i], W_trained, y_test[i])\n",
    "        test_pred.append(y_test_pred)\n",
    "        test_loss.append(loss)\n",
    "    return test_pred, test_loss\n",
    "    \n",
    "\n",
    "  def predict(self, W_trained, X_sample):\n",
    "    prediction = sum(W_trained * X_sample)\n",
    "    return prediction\n",
    "\n",
    "  def plotLoss(self, loss, epochs):\n",
    "    \"\"\"\n",
    "    Parameters:\n",
    "    loss (list) : Calculated Sqaured Error Loss for y and y_pred\n",
    "    epochs (list): Number of Epochs\n",
    "\n",
    "    Returns: None\n",
    "    Plots a graph of Loss vs Epochs\n",
    "    \"\"\"\n",
    "    plt.plot(epochs, loss)\n",
    "    plt.xlabel('Number of Epochs')\n",
    "    plt.ylabel('Loss')\n",
    "    plt.title('Plot Loss')\n",
    "    plt.show()\n",
    "  \n"
   ]
  },
  {
   "cell_type": "markdown",
   "metadata": {
    "id": "KL3sFhd5sJ85",
    "papermill": {
     "duration": 0.037917,
     "end_time": "2021-02-13T14:48:41.232981",
     "exception": false,
     "start_time": "2021-02-13T14:48:41.195064",
     "status": "completed"
    },
    "tags": []
   },
   "source": [
    "### Polynomial Regression (N = 2)"
   ]
  },
  {
   "cell_type": "markdown",
   "metadata": {
    "id": "YSkVe04GqPzi",
    "papermill": {
     "duration": 0.039505,
     "end_time": "2021-02-13T14:48:41.310806",
     "exception": false,
     "start_time": "2021-02-13T14:48:41.271301",
     "status": "completed"
    },
    "tags": []
   },
   "source": [
    "Consider the Polynomial Regression equation, we need to decide the value of $N$ with respect to the Data. Here, we choose the value $N=2$. Definitely, we can iterate over various values of $N$, after the initial results. However, first, we need to create another column $Level^{2}$, since it's our Independent Feature."
   ]
  },
  {
   "cell_type": "code",
   "execution_count": 12,
   "metadata": {
    "execution": {
     "iopub.execute_input": "2021-02-13T14:48:41.394208Z",
     "iopub.status.busy": "2021-02-13T14:48:41.393551Z",
     "iopub.status.idle": "2021-02-13T14:48:41.397211Z",
     "shell.execute_reply": "2021-02-13T14:48:41.396657Z"
    },
    "id": "95algiQxXZGB",
    "papermill": {
     "duration": 0.048041,
     "end_time": "2021-02-13T14:48:41.397395",
     "exception": false,
     "start_time": "2021-02-13T14:48:41.349354",
     "status": "completed"
    },
    "tags": []
   },
   "outputs": [],
   "source": [
    "# Independent Feature\n",
    "X = np.asarray(dataset['Level'].values.tolist())"
   ]
  },
  {
   "cell_type": "code",
   "execution_count": 13,
   "metadata": {
    "execution": {
     "iopub.execute_input": "2021-02-13T14:48:41.479832Z",
     "iopub.status.busy": "2021-02-13T14:48:41.479106Z",
     "iopub.status.idle": "2021-02-13T14:48:41.482151Z",
     "shell.execute_reply": "2021-02-13T14:48:41.482669Z"
    },
    "id": "8A83aFOEXZpY",
    "papermill": {
     "duration": 0.046927,
     "end_time": "2021-02-13T14:48:41.482876",
     "exception": false,
     "start_time": "2021-02-13T14:48:41.435949",
     "status": "completed"
    },
    "tags": []
   },
   "outputs": [],
   "source": [
    "# Reshaping the independent feature\n",
    "X = X.reshape(-1,1)"
   ]
  },
  {
   "cell_type": "code",
   "execution_count": 14,
   "metadata": {
    "execution": {
     "iopub.execute_input": "2021-02-13T14:48:41.563745Z",
     "iopub.status.busy": "2021-02-13T14:48:41.563055Z",
     "iopub.status.idle": "2021-02-13T14:48:41.568341Z",
     "shell.execute_reply": "2021-02-13T14:48:41.569010Z"
    },
    "id": "_r457PtZX6JZ",
    "outputId": "7b068e56-667b-4371-8216-7c0b544c0696",
    "papermill": {
     "duration": 0.048062,
     "end_time": "2021-02-13T14:48:41.569200",
     "exception": false,
     "start_time": "2021-02-13T14:48:41.521138",
     "status": "completed"
    },
    "tags": []
   },
   "outputs": [
    {
     "data": {
      "text/plain": [
       "array([[ 1],\n",
       "       [ 2],\n",
       "       [ 3],\n",
       "       [ 4],\n",
       "       [ 5],\n",
       "       [ 6],\n",
       "       [ 7],\n",
       "       [ 8],\n",
       "       [ 9],\n",
       "       [10]])"
      ]
     },
     "execution_count": 14,
     "metadata": {},
     "output_type": "execute_result"
    }
   ],
   "source": [
    "X"
   ]
  },
  {
   "cell_type": "code",
   "execution_count": 15,
   "metadata": {
    "execution": {
     "iopub.execute_input": "2021-02-13T14:48:41.651842Z",
     "iopub.status.busy": "2021-02-13T14:48:41.651159Z",
     "iopub.status.idle": "2021-02-13T14:48:41.656371Z",
     "shell.execute_reply": "2021-02-13T14:48:41.656939Z"
    },
    "id": "qXnThaRhVFWN",
    "papermill": {
     "duration": 0.047711,
     "end_time": "2021-02-13T14:48:41.657137",
     "exception": false,
     "start_time": "2021-02-13T14:48:41.609426",
     "status": "completed"
    },
    "tags": []
   },
   "outputs": [],
   "source": [
    "X = poly_features(2,X)"
   ]
  },
  {
   "cell_type": "code",
   "execution_count": 16,
   "metadata": {
    "execution": {
     "iopub.execute_input": "2021-02-13T14:48:41.740159Z",
     "iopub.status.busy": "2021-02-13T14:48:41.739489Z",
     "iopub.status.idle": "2021-02-13T14:48:41.744797Z",
     "shell.execute_reply": "2021-02-13T14:48:41.745369Z"
    },
    "id": "fw0PhGdmVFWU",
    "papermill": {
     "duration": 0.049359,
     "end_time": "2021-02-13T14:48:41.745651",
     "exception": false,
     "start_time": "2021-02-13T14:48:41.696292",
     "status": "completed"
    },
    "tags": []
   },
   "outputs": [],
   "source": [
    "#Adding the feature X0 = 1, so we have the equation: y =  W0 + (W1 * X1) + (W2 * (X1**2))\n",
    "X = np.concatenate((X,np.ones((10,1))), axis = 1)"
   ]
  },
  {
   "cell_type": "code",
   "execution_count": 17,
   "metadata": {
    "execution": {
     "iopub.execute_input": "2021-02-13T14:48:41.828566Z",
     "iopub.status.busy": "2021-02-13T14:48:41.827922Z",
     "iopub.status.idle": "2021-02-13T14:48:41.833221Z",
     "shell.execute_reply": "2021-02-13T14:48:41.833775Z"
    },
    "id": "pcE64xTnVFWU",
    "outputId": "f3e233fa-a9e3-42ff-d947-7f37ea629b34",
    "papermill": {
     "duration": 0.048238,
     "end_time": "2021-02-13T14:48:41.833963",
     "exception": false,
     "start_time": "2021-02-13T14:48:41.785725",
     "status": "completed"
    },
    "tags": []
   },
   "outputs": [
    {
     "data": {
      "text/plain": [
       "array([[  1.,   1.,   1.],\n",
       "       [  2.,   4.,   1.],\n",
       "       [  3.,   9.,   1.],\n",
       "       [  4.,  16.,   1.],\n",
       "       [  5.,  25.,   1.],\n",
       "       [  6.,  36.,   1.],\n",
       "       [  7.,  49.,   1.],\n",
       "       [  8.,  64.,   1.],\n",
       "       [  9.,  81.,   1.],\n",
       "       [ 10., 100.,   1.]])"
      ]
     },
     "execution_count": 17,
     "metadata": {},
     "output_type": "execute_result"
    }
   ],
   "source": [
    "X"
   ]
  },
  {
   "cell_type": "code",
   "execution_count": 18,
   "metadata": {
    "execution": {
     "iopub.execute_input": "2021-02-13T14:48:41.916881Z",
     "iopub.status.busy": "2021-02-13T14:48:41.916176Z",
     "iopub.status.idle": "2021-02-13T14:48:41.923271Z",
     "shell.execute_reply": "2021-02-13T14:48:41.922564Z"
    },
    "id": "uSO16vuAVFWU",
    "outputId": "58054c47-dc8a-411f-90e4-a31990f2add8",
    "papermill": {
     "duration": 0.050104,
     "end_time": "2021-02-13T14:48:41.923435",
     "exception": false,
     "start_time": "2021-02-13T14:48:41.873331",
     "status": "completed"
    },
    "tags": []
   },
   "outputs": [
    {
     "data": {
      "text/plain": [
       "array([[  45000],\n",
       "       [  50000],\n",
       "       [  60000],\n",
       "       [  80000],\n",
       "       [ 110000],\n",
       "       [ 150000],\n",
       "       [ 200000],\n",
       "       [ 300000],\n",
       "       [ 500000],\n",
       "       [1000000]])"
      ]
     },
     "execution_count": 18,
     "metadata": {},
     "output_type": "execute_result"
    }
   ],
   "source": [
    "y"
   ]
  },
  {
   "cell_type": "code",
   "execution_count": 19,
   "metadata": {
    "execution": {
     "iopub.execute_input": "2021-02-13T14:48:42.009290Z",
     "iopub.status.busy": "2021-02-13T14:48:42.008633Z",
     "iopub.status.idle": "2021-02-13T14:48:42.012049Z",
     "shell.execute_reply": "2021-02-13T14:48:42.011535Z"
    },
    "id": "upP6PeVIVFWV",
    "papermill": {
     "duration": 0.048817,
     "end_time": "2021-02-13T14:48:42.012204",
     "exception": false,
     "start_time": "2021-02-13T14:48:41.963387",
     "status": "completed"
    },
    "tags": []
   },
   "outputs": [],
   "source": [
    "#Splitting the dataset\n",
    "X_train, y_train, X_test, y_test = split_data(X,y)"
   ]
  },
  {
   "cell_type": "code",
   "execution_count": 20,
   "metadata": {
    "execution": {
     "iopub.execute_input": "2021-02-13T14:48:42.097543Z",
     "iopub.status.busy": "2021-02-13T14:48:42.096828Z",
     "iopub.status.idle": "2021-02-13T14:48:42.100463Z",
     "shell.execute_reply": "2021-02-13T14:48:42.099928Z"
    },
    "id": "XtPZ2MhQVFWV",
    "papermill": {
     "duration": 0.04854,
     "end_time": "2021-02-13T14:48:42.100627",
     "exception": false,
     "start_time": "2021-02-13T14:48:42.052087",
     "status": "completed"
    },
    "tags": []
   },
   "outputs": [],
   "source": [
    "#declaring the \"regressor\" as an object of the class polynomialRegression\n",
    "regressor = polynomialRegression()"
   ]
  },
  {
   "cell_type": "code",
   "execution_count": 21,
   "metadata": {
    "execution": {
     "iopub.execute_input": "2021-02-13T14:48:42.188130Z",
     "iopub.status.busy": "2021-02-13T14:48:42.187461Z",
     "iopub.status.idle": "2021-02-13T14:48:42.271331Z",
     "shell.execute_reply": "2021-02-13T14:48:42.270745Z"
    },
    "id": "YBP-_YakVFWV",
    "papermill": {
     "duration": 0.129914,
     "end_time": "2021-02-13T14:48:42.271475",
     "exception": false,
     "start_time": "2021-02-13T14:48:42.141561",
     "status": "completed"
    },
    "tags": []
   },
   "outputs": [],
   "source": [
    "#Training \n",
    "W_trained, train_loss, num_epochs = regressor.train(X_train, y_train, epochs=200, alpha=0.00001)"
   ]
  },
  {
   "cell_type": "code",
   "execution_count": 22,
   "metadata": {
    "execution": {
     "iopub.execute_input": "2021-02-13T14:48:42.375007Z",
     "iopub.status.busy": "2021-02-13T14:48:42.374043Z",
     "iopub.status.idle": "2021-02-13T14:48:42.376711Z",
     "shell.execute_reply": "2021-02-13T14:48:42.377158Z"
    },
    "id": "TdCPaTGhVFWV",
    "papermill": {
     "duration": 0.063361,
     "end_time": "2021-02-13T14:48:42.377392",
     "exception": false,
     "start_time": "2021-02-13T14:48:42.314031",
     "status": "completed"
    },
    "tags": []
   },
   "outputs": [],
   "source": [
    "#Testing on the Test Dataset\n",
    "test_pred, test_loss = regressor.test(X_test, y_test, W_trained)"
   ]
  },
  {
   "cell_type": "markdown",
   "metadata": {
    "id": "Y-mRXKlqVFWW",
    "papermill": {
     "duration": 0.05026,
     "end_time": "2021-02-13T14:48:42.478476",
     "exception": false,
     "start_time": "2021-02-13T14:48:42.428216",
     "status": "completed"
    },
    "tags": []
   },
   "source": [
    "#### Visualizing Results"
   ]
  },
  {
   "cell_type": "markdown",
   "metadata": {
    "id": "PrwuQURKdFuR",
    "papermill": {
     "duration": 0.042686,
     "end_time": "2021-02-13T14:48:42.568740",
     "exception": false,
     "start_time": "2021-02-13T14:48:42.526054",
     "status": "completed"
    },
    "tags": []
   },
   "source": [
    "We use the entire dataset for better visualization because only test dataset won't give a clear idea because the size of our dataset is too small. Using the complete dataset will enable us to get a better insight.\n",
    "\n",
    "\n",
    " We use the entire dataset for all the visualizations ahead in the notebook too."
   ]
  },
  {
   "cell_type": "code",
   "execution_count": 23,
   "metadata": {
    "execution": {
     "iopub.execute_input": "2021-02-13T14:48:42.658187Z",
     "iopub.status.busy": "2021-02-13T14:48:42.655922Z",
     "iopub.status.idle": "2021-02-13T14:48:42.661329Z",
     "shell.execute_reply": "2021-02-13T14:48:42.661929Z"
    },
    "id": "mCtyxmn3VFWW",
    "papermill": {
     "duration": 0.051048,
     "end_time": "2021-02-13T14:48:42.662116",
     "exception": false,
     "start_time": "2021-02-13T14:48:42.611068",
     "status": "completed"
    },
    "tags": []
   },
   "outputs": [],
   "source": [
    "pred_plot = pred_to_plot(W_trained,X)"
   ]
  },
  {
   "cell_type": "code",
   "execution_count": 24,
   "metadata": {
    "execution": {
     "iopub.execute_input": "2021-02-13T14:48:42.749513Z",
     "iopub.status.busy": "2021-02-13T14:48:42.748831Z",
     "iopub.status.idle": "2021-02-13T14:48:42.958524Z",
     "shell.execute_reply": "2021-02-13T14:48:42.957731Z"
    },
    "id": "eIKBAbF2VFWW",
    "outputId": "6ef358a3-5285-4761-d7a7-cb6e1a9ab77e",
    "papermill": {
     "duration": 0.254901,
     "end_time": "2021-02-13T14:48:42.958681",
     "exception": false,
     "start_time": "2021-02-13T14:48:42.703780",
     "status": "completed"
    },
    "tags": []
   },
   "outputs": [
    {
     "data": {
      "image/png": "[encoded data removed]",
      "text/plain": [
       "<Figure size 432x288 with 1 Axes>"
      ]
     },
     "metadata": {
      "needs_background": "light"
     },
     "output_type": "display_data"
    }
   ],
   "source": [
    "plt.scatter(X[:,0], y, color = 'red')\n",
    "plt.plot(X[:,0], pred_plot, color = 'blue')\n",
    "plt.title('Naive Polynomial Regression (N = 2)')\n",
    "plt.xlabel('Position level')\n",
    "plt.ylabel('Salary')\n",
    "plt.show()"
   ]
  },
  {
   "cell_type": "markdown",
   "metadata": {
    "id": "z_xQKHWQZfZ5",
    "papermill": {
     "duration": 0.040994,
     "end_time": "2021-02-13T14:48:43.041726",
     "exception": false,
     "start_time": "2021-02-13T14:48:43.000732",
     "status": "completed"
    },
    "tags": []
   },
   "source": [
    "We have got good results for $N=2$ but we can try for better performance by changing the value of $N$.\n",
    "\n",
    " Let us train the regressor for $N=4$."
   ]
  },
  {
   "cell_type": "markdown",
   "metadata": {
    "id": "bFwXfcNtU-7w",
    "papermill": {
     "duration": 0.04123,
     "end_time": "2021-02-13T14:48:43.124154",
     "exception": false,
     "start_time": "2021-02-13T14:48:43.082924",
     "status": "completed"
    },
    "tags": []
   },
   "source": [
    "### Polynomial Regression (N=4)"
   ]
  },
  {
   "cell_type": "code",
   "execution_count": 25,
   "metadata": {
    "execution": {
     "iopub.execute_input": "2021-02-13T14:48:43.212929Z",
     "iopub.status.busy": "2021-02-13T14:48:43.211985Z",
     "iopub.status.idle": "2021-02-13T14:48:43.214710Z",
     "shell.execute_reply": "2021-02-13T14:48:43.214134Z"
    },
    "id": "m7vCTpzGObUr",
    "papermill": {
     "duration": 0.049177,
     "end_time": "2021-02-13T14:48:43.214871",
     "exception": false,
     "start_time": "2021-02-13T14:48:43.165694",
     "status": "completed"
    },
    "tags": []
   },
   "outputs": [],
   "source": [
    "# Independent Feature\n",
    "X = np.asarray(dataset['Level'].values.tolist())"
   ]
  },
  {
   "cell_type": "code",
   "execution_count": 26,
   "metadata": {
    "execution": {
     "iopub.execute_input": "2021-02-13T14:48:43.306134Z",
     "iopub.status.busy": "2021-02-13T14:48:43.305453Z",
     "iopub.status.idle": "2021-02-13T14:48:43.307813Z",
     "shell.execute_reply": "2021-02-13T14:48:43.308302Z"
    },
    "id": "Rvpp58TTObU0",
    "papermill": {
     "duration": 0.050691,
     "end_time": "2021-02-13T14:48:43.308577",
     "exception": false,
     "start_time": "2021-02-13T14:48:43.257886",
     "status": "completed"
    },
    "tags": []
   },
   "outputs": [],
   "source": [
    "# Reshaping the independent feature\n",
    "X = X.reshape(-1,1)"
   ]
  },
  {
   "cell_type": "code",
   "execution_count": 27,
   "metadata": {
    "execution": {
     "iopub.execute_input": "2021-02-13T14:48:43.403745Z",
     "iopub.status.busy": "2021-02-13T14:48:43.403090Z",
     "iopub.status.idle": "2021-02-13T14:48:43.407320Z",
     "shell.execute_reply": "2021-02-13T14:48:43.406654Z"
    },
    "id": "Ig7uR_ylT6_Q",
    "papermill": {
     "duration": 0.056428,
     "end_time": "2021-02-13T14:48:43.407474",
     "exception": false,
     "start_time": "2021-02-13T14:48:43.351046",
     "status": "completed"
    },
    "tags": []
   },
   "outputs": [],
   "source": [
    "# Constructing the polynomials of our Independent features \n",
    "X_poly = poly_features(4,X)"
   ]
  },
  {
   "cell_type": "code",
   "execution_count": 28,
   "metadata": {
    "execution": {
     "iopub.execute_input": "2021-02-13T14:48:43.500427Z",
     "iopub.status.busy": "2021-02-13T14:48:43.499542Z",
     "iopub.status.idle": "2021-02-13T14:48:43.502955Z",
     "shell.execute_reply": "2021-02-13T14:48:43.502442Z"
    },
    "id": "WHGaikOGkSYQ",
    "papermill": {
     "duration": 0.052014,
     "end_time": "2021-02-13T14:48:43.503106",
     "exception": false,
     "start_time": "2021-02-13T14:48:43.451092",
     "status": "completed"
    },
    "tags": []
   },
   "outputs": [],
   "source": [
    "#Adding the feature X0 = 1, so we have the equation: y =  W0 + (W1 * X1) + (W2 * (X1**2))\n",
    "X_poly = np.concatenate((X_poly,np.ones((10,1))), axis = 1)"
   ]
  },
  {
   "cell_type": "code",
   "execution_count": 29,
   "metadata": {
    "execution": {
     "iopub.execute_input": "2021-02-13T14:48:43.597429Z",
     "iopub.status.busy": "2021-02-13T14:48:43.596472Z",
     "iopub.status.idle": "2021-02-13T14:48:43.601940Z",
     "shell.execute_reply": "2021-02-13T14:48:43.601334Z"
    },
    "id": "fNkI1FZ9US_f",
    "outputId": "22cd76f5-cb66-4d43-fafb-400c8b7076df",
    "papermill": {
     "duration": 0.055985,
     "end_time": "2021-02-13T14:48:43.602075",
     "exception": false,
     "start_time": "2021-02-13T14:48:43.546090",
     "status": "completed"
    },
    "tags": []
   },
   "outputs": [
    {
     "data": {
      "text/plain": [
       "array([[1.000e+00, 1.000e+00, 1.000e+00, 1.000e+00, 1.000e+00],\n",
       "       [2.000e+00, 4.000e+00, 8.000e+00, 1.600e+01, 1.000e+00],\n",
       "       [3.000e+00, 9.000e+00, 2.700e+01, 8.100e+01, 1.000e+00],\n",
       "       [4.000e+00, 1.600e+01, 6.400e+01, 2.560e+02, 1.000e+00],\n",
       "       [5.000e+00, 2.500e+01, 1.250e+02, 6.250e+02, 1.000e+00],\n",
       "       [6.000e+00, 3.600e+01, 2.160e+02, 1.296e+03, 1.000e+00],\n",
       "       [7.000e+00, 4.900e+01, 3.430e+02, 2.401e+03, 1.000e+00],\n",
       "       [8.000e+00, 6.400e+01, 5.120e+02, 4.096e+03, 1.000e+00],\n",
       "       [9.000e+00, 8.100e+01, 7.290e+02, 6.561e+03, 1.000e+00],\n",
       "       [1.000e+01, 1.000e+02, 1.000e+03, 1.000e+04, 1.000e+00]])"
      ]
     },
     "execution_count": 29,
     "metadata": {},
     "output_type": "execute_result"
    }
   ],
   "source": [
    "X_poly"
   ]
  },
  {
   "cell_type": "code",
   "execution_count": 30,
   "metadata": {
    "execution": {
     "iopub.execute_input": "2021-02-13T14:48:43.697167Z",
     "iopub.status.busy": "2021-02-13T14:48:43.696496Z",
     "iopub.status.idle": "2021-02-13T14:48:43.700874Z",
     "shell.execute_reply": "2021-02-13T14:48:43.700131Z"
    },
    "id": "B_A9RqEVvGbU",
    "outputId": "0501ff00-0a5a-462e-afb2-1564a792e0ee",
    "papermill": {
     "duration": 0.05513,
     "end_time": "2021-02-13T14:48:43.701052",
     "exception": false,
     "start_time": "2021-02-13T14:48:43.645922",
     "status": "completed"
    },
    "tags": []
   },
   "outputs": [
    {
     "data": {
      "text/plain": [
       "array([[  45000],\n",
       "       [  50000],\n",
       "       [  60000],\n",
       "       [  80000],\n",
       "       [ 110000],\n",
       "       [ 150000],\n",
       "       [ 200000],\n",
       "       [ 300000],\n",
       "       [ 500000],\n",
       "       [1000000]])"
      ]
     },
     "execution_count": 30,
     "metadata": {},
     "output_type": "execute_result"
    }
   ],
   "source": [
    "y"
   ]
  },
  {
   "cell_type": "code",
   "execution_count": 31,
   "metadata": {
    "execution": {
     "iopub.execute_input": "2021-02-13T14:48:43.795993Z",
     "iopub.status.busy": "2021-02-13T14:48:43.795268Z",
     "iopub.status.idle": "2021-02-13T14:48:43.799674Z",
     "shell.execute_reply": "2021-02-13T14:48:43.798971Z"
    },
    "id": "SeUC0VYImNlQ",
    "papermill": {
     "duration": 0.054338,
     "end_time": "2021-02-13T14:48:43.799855",
     "exception": false,
     "start_time": "2021-02-13T14:48:43.745517",
     "status": "completed"
    },
    "tags": []
   },
   "outputs": [],
   "source": [
    "#Splitting the dataset\n",
    "X_train, y_train, X_test, y_test = split_data(X_poly,y)"
   ]
  },
  {
   "cell_type": "code",
   "execution_count": 32,
   "metadata": {
    "execution": {
     "iopub.execute_input": "2021-02-13T14:48:43.896793Z",
     "iopub.status.busy": "2021-02-13T14:48:43.895967Z",
     "iopub.status.idle": "2021-02-13T14:48:43.899620Z",
     "shell.execute_reply": "2021-02-13T14:48:43.900372Z"
    },
    "id": "2UU50V05mRoN",
    "papermill": {
     "duration": 0.055267,
     "end_time": "2021-02-13T14:48:43.900591",
     "exception": false,
     "start_time": "2021-02-13T14:48:43.845324",
     "status": "completed"
    },
    "tags": []
   },
   "outputs": [],
   "source": [
    "#declaring the \"regressor\" as an object of the class LinearRegression\n",
    "regressor = polynomialRegression()"
   ]
  },
  {
   "cell_type": "code",
   "execution_count": 33,
   "metadata": {
    "execution": {
     "iopub.execute_input": "2021-02-13T14:48:44.001338Z",
     "iopub.status.busy": "2021-02-13T14:48:44.000293Z",
     "iopub.status.idle": "2021-02-13T14:48:44.595054Z",
     "shell.execute_reply": "2021-02-13T14:48:44.594358Z"
    },
    "id": "5wLjNkQnusqh",
    "papermill": {
     "duration": 0.648564,
     "end_time": "2021-02-13T14:48:44.595214",
     "exception": false,
     "start_time": "2021-02-13T14:48:43.946650",
     "status": "completed"
    },
    "tags": []
   },
   "outputs": [],
   "source": [
    "#Training \n",
    "W_trained, train_loss, num_epochs = regressor.train(X_train, y_train, epochs=1000, alpha=1e-9)"
   ]
  },
  {
   "cell_type": "code",
   "execution_count": 34,
   "metadata": {
    "execution": {
     "iopub.execute_input": "2021-02-13T14:48:44.689423Z",
     "iopub.status.busy": "2021-02-13T14:48:44.688733Z",
     "iopub.status.idle": "2021-02-13T14:48:44.693096Z",
     "shell.execute_reply": "2021-02-13T14:48:44.692388Z"
    },
    "id": "_JQSySiyxJ4n",
    "papermill": {
     "duration": 0.053675,
     "end_time": "2021-02-13T14:48:44.693287",
     "exception": false,
     "start_time": "2021-02-13T14:48:44.639612",
     "status": "completed"
    },
    "tags": []
   },
   "outputs": [],
   "source": [
    "#Testing on the Test Dataset\n",
    "test_pred, test_loss = regressor.test(X_test, y_test, W_trained)"
   ]
  },
  {
   "cell_type": "code",
   "execution_count": 35,
   "metadata": {
    "execution": {
     "iopub.execute_input": "2021-02-13T14:48:44.792697Z",
     "iopub.status.busy": "2021-02-13T14:48:44.791805Z",
     "iopub.status.idle": "2021-02-13T14:48:44.797367Z",
     "shell.execute_reply": "2021-02-13T14:48:44.796823Z"
    },
    "id": "jH63VP1uMs1Z",
    "outputId": "1ee2e59b-e3c4-42c7-e019-7706023f5689",
    "papermill": {
     "duration": 0.057718,
     "end_time": "2021-02-13T14:48:44.797539",
     "exception": false,
     "start_time": "2021-02-13T14:48:44.739821",
     "status": "completed"
    },
    "tags": []
   },
   "outputs": [
    {
     "data": {
      "text/plain": [
       "array([[1.000e+00, 1.000e+00, 1.000e+00, 1.000e+00, 1.000e+00],\n",
       "       [2.000e+00, 4.000e+00, 8.000e+00, 1.600e+01, 1.000e+00],\n",
       "       [3.000e+00, 9.000e+00, 2.700e+01, 8.100e+01, 1.000e+00],\n",
       "       [4.000e+00, 1.600e+01, 6.400e+01, 2.560e+02, 1.000e+00],\n",
       "       [5.000e+00, 2.500e+01, 1.250e+02, 6.250e+02, 1.000e+00],\n",
       "       [6.000e+00, 3.600e+01, 2.160e+02, 1.296e+03, 1.000e+00],\n",
       "       [7.000e+00, 4.900e+01, 3.430e+02, 2.401e+03, 1.000e+00],\n",
       "       [8.000e+00, 6.400e+01, 5.120e+02, 4.096e+03, 1.000e+00],\n",
       "       [9.000e+00, 8.100e+01, 7.290e+02, 6.561e+03, 1.000e+00],\n",
       "       [1.000e+01, 1.000e+02, 1.000e+03, 1.000e+04, 1.000e+00]])"
      ]
     },
     "execution_count": 35,
     "metadata": {},
     "output_type": "execute_result"
    }
   ],
   "source": [
    "X_poly"
   ]
  },
  {
   "cell_type": "markdown",
   "metadata": {
    "id": "LbXBW88kpjmN",
    "papermill": {
     "duration": 0.046099,
     "end_time": "2021-02-13T14:48:44.890000",
     "exception": false,
     "start_time": "2021-02-13T14:48:44.843901",
     "status": "completed"
    },
    "tags": []
   },
   "source": [
    "#### Visualizing Results"
   ]
  },
  {
   "cell_type": "code",
   "execution_count": 36,
   "metadata": {
    "execution": {
     "iopub.execute_input": "2021-02-13T14:48:44.988531Z",
     "iopub.status.busy": "2021-02-13T14:48:44.987406Z",
     "iopub.status.idle": "2021-02-13T14:48:44.991619Z",
     "shell.execute_reply": "2021-02-13T14:48:44.990978Z"
    },
    "id": "13Xa6LURUGDX",
    "papermill": {
     "duration": 0.055613,
     "end_time": "2021-02-13T14:48:44.991799",
     "exception": false,
     "start_time": "2021-02-13T14:48:44.936186",
     "status": "completed"
    },
    "tags": []
   },
   "outputs": [],
   "source": [
    "pred_plot = pred_to_plot(W_trained,X_poly)"
   ]
  },
  {
   "cell_type": "code",
   "execution_count": 37,
   "metadata": {
    "execution": {
     "iopub.execute_input": "2021-02-13T14:48:45.091804Z",
     "iopub.status.busy": "2021-02-13T14:48:45.091014Z",
     "iopub.status.idle": "2021-02-13T14:48:45.095106Z",
     "shell.execute_reply": "2021-02-13T14:48:45.094543Z"
    },
    "id": "FN5hLy2qM6mf",
    "outputId": "a90dc23f-c8d9-42bb-d1c3-92c3c97cfafa",
    "papermill": {
     "duration": 0.056296,
     "end_time": "2021-02-13T14:48:45.095283",
     "exception": false,
     "start_time": "2021-02-13T14:48:45.038987",
     "status": "completed"
    },
    "tags": []
   },
   "outputs": [
    {
     "data": {
      "text/plain": [
       "[101.56686988148302,\n",
       " 1570.332736753576,\n",
       " 7876.252690310476,\n",
       " 24783.645533405484,\n",
       " 60351.39230382515,\n",
       " 124932.93627428928,\n",
       " 231176.28295245094,\n",
       " 394024.0000808964,\n",
       " 630713.2176371454,\n",
       " 960775.6278336504]"
      ]
     },
     "execution_count": 37,
     "metadata": {},
     "output_type": "execute_result"
    }
   ],
   "source": [
    "pred_plot"
   ]
  },
  {
   "cell_type": "code",
   "execution_count": 38,
   "metadata": {
    "execution": {
     "iopub.execute_input": "2021-02-13T14:48:45.243301Z",
     "iopub.status.busy": "2021-02-13T14:48:45.214694Z",
     "iopub.status.idle": "2021-02-13T14:48:45.370666Z",
     "shell.execute_reply": "2021-02-13T14:48:45.371141Z"
    },
    "id": "Ae5Hkdxeorhn",
    "outputId": "7360ebfc-2369-49a2-e6d5-9a75a0909c59",
    "papermill": {
     "duration": 0.228864,
     "end_time": "2021-02-13T14:48:45.371372",
     "exception": false,
     "start_time": "2021-02-13T14:48:45.142508",
     "status": "completed"
    },
    "tags": []
   },
   "outputs": [
    {
     "data": {
      "image/png": "[encoded data removed]",
      "text/plain": [
       "<Figure size 432x288 with 1 Axes>"
      ]
     },
     "metadata": {
      "needs_background": "light"
     },
     "output_type": "display_data"
    }
   ],
   "source": [
    "plt.scatter(X_poly[:,0], y, color = 'red')\n",
    "plt.plot(X_poly[:,0], pred_plot, color = 'blue')\n",
    "plt.title('Naive Polynomial Regression (N=4)')\n",
    "plt.xlabel('Position level')\n",
    "plt.ylabel('Salary')\n",
    "plt.show()"
   ]
  },
  {
   "cell_type": "markdown",
   "metadata": {
    "id": "nQBI53TeZ7mq",
    "papermill": {
     "duration": 0.048007,
     "end_time": "2021-02-13T14:48:45.467617",
     "exception": false,
     "start_time": "2021-02-13T14:48:45.419610",
     "status": "completed"
    },
    "tags": []
   },
   "source": [
    "Clearly, the regressor with $N=4$ performs better than the regressor with $N=2$. You can increase the value of $N$ and look for better performance but, be careful that you don't run into the problem of **Overfitting**.\n",
    "\n",
    "As of now, our best regressor has $N=4$ and therefore, we will train the polynomial regression using sklearn only for $N=4$"
   ]
  },
  {
   "cell_type": "markdown",
   "metadata": {
    "id": "v7qN5ze_nCaU",
    "papermill": {
     "duration": 0.048641,
     "end_time": "2021-02-13T14:48:45.565210",
     "exception": false,
     "start_time": "2021-02-13T14:48:45.516569",
     "status": "completed"
    },
    "tags": []
   },
   "source": [
    "## Polynomial Regression using Sklearn"
   ]
  },
  {
   "cell_type": "markdown",
   "metadata": {
    "id": "5qzeCvuHnUkd",
    "papermill": {
     "duration": 0.047459,
     "end_time": "2021-02-13T14:48:45.661415",
     "exception": false,
     "start_time": "2021-02-13T14:48:45.613956",
     "status": "completed"
    },
    "tags": []
   },
   "source": [
    "### Importing dependencies"
   ]
  },
  {
   "cell_type": "code",
   "execution_count": 39,
   "metadata": {
    "execution": {
     "iopub.execute_input": "2021-02-13T14:48:45.762752Z",
     "iopub.status.busy": "2021-02-13T14:48:45.761908Z",
     "iopub.status.idle": "2021-02-13T14:48:46.967467Z",
     "shell.execute_reply": "2021-02-13T14:48:46.968005Z"
    },
    "id": "WxTLPi00nPlR",
    "papermill": {
     "duration": 1.259233,
     "end_time": "2021-02-13T14:48:46.968195",
     "exception": false,
     "start_time": "2021-02-13T14:48:45.708962",
     "status": "completed"
    },
    "tags": []
   },
   "outputs": [],
   "source": [
    "import numpy as np\n",
    "import pandas\n",
    "import matplotlib.pyplot as plt \n",
    "from sklearn.model_selection import train_test_split\n",
    "from sklearn.linear_model import LinearRegression\n",
    "from sklearn.preprocessing import PolynomialFeatures"
   ]
  },
  {
   "cell_type": "markdown",
   "metadata": {
    "id": "6n4bZLnyoRBF",
    "papermill": {
     "duration": 0.047351,
     "end_time": "2021-02-13T14:48:47.062809",
     "exception": false,
     "start_time": "2021-02-13T14:48:47.015458",
     "status": "completed"
    },
    "tags": []
   },
   "source": [
    "### Data Preprocessing"
   ]
  },
  {
   "cell_type": "code",
   "execution_count": 40,
   "metadata": {
    "execution": {
     "iopub.execute_input": "2021-02-13T14:48:47.164727Z",
     "iopub.status.busy": "2021-02-13T14:48:47.164056Z",
     "iopub.status.idle": "2021-02-13T14:48:47.173399Z",
     "shell.execute_reply": "2021-02-13T14:48:47.172778Z"
    },
    "id": "9RVobIAMoUJP",
    "papermill": {
     "duration": 0.062631,
     "end_time": "2021-02-13T14:48:47.173550",
     "exception": false,
     "start_time": "2021-02-13T14:48:47.110919",
     "status": "completed"
    },
    "tags": []
   },
   "outputs": [],
   "source": [
    "#Get the Dataset and separating the independent and dependent features\n",
    "dataset = pd.read_csv(r'../input/position-salaries-by-superdatascienceteam/Position_Salaries.csv')\n",
    "X_sk = dataset.iloc[:, 1].values\n",
    "y_sk = dataset.iloc[:, -1].values"
   ]
  },
  {
   "cell_type": "code",
   "execution_count": 41,
   "metadata": {
    "execution": {
     "iopub.execute_input": "2021-02-13T14:48:47.276009Z",
     "iopub.status.busy": "2021-02-13T14:48:47.275006Z",
     "iopub.status.idle": "2021-02-13T14:48:47.282173Z",
     "shell.execute_reply": "2021-02-13T14:48:47.281498Z"
    },
    "id": "Us4eMetBR6hA",
    "papermill": {
     "duration": 0.059646,
     "end_time": "2021-02-13T14:48:47.282357",
     "exception": false,
     "start_time": "2021-02-13T14:48:47.222711",
     "status": "completed"
    },
    "tags": []
   },
   "outputs": [],
   "source": [
    "#Reshaping the Independent amd Dependent Features\n",
    "X_sk = X_sk.reshape(-1,1)\n",
    "y_sk = y_sk.reshape(-1,1)"
   ]
  },
  {
   "cell_type": "code",
   "execution_count": 42,
   "metadata": {
    "execution": {
     "iopub.execute_input": "2021-02-13T14:48:47.384774Z",
     "iopub.status.busy": "2021-02-13T14:48:47.383716Z",
     "iopub.status.idle": "2021-02-13T14:48:47.387210Z",
     "shell.execute_reply": "2021-02-13T14:48:47.387792Z"
    },
    "id": "aL1_GomWS7hx",
    "papermill": {
     "duration": 0.058937,
     "end_time": "2021-02-13T14:48:47.388151",
     "exception": false,
     "start_time": "2021-02-13T14:48:47.329214",
     "status": "completed"
    },
    "tags": []
   },
   "outputs": [],
   "source": [
    "# Constructing the polynomials of our Independent features \n",
    "poly_reg = PolynomialFeatures(degree = 4)\n",
    "X_poly_sk = poly_reg.fit_transform(X_sk)"
   ]
  },
  {
   "cell_type": "code",
   "execution_count": 43,
   "metadata": {
    "execution": {
     "iopub.execute_input": "2021-02-13T14:48:47.495022Z",
     "iopub.status.busy": "2021-02-13T14:48:47.493942Z",
     "iopub.status.idle": "2021-02-13T14:48:47.498416Z",
     "shell.execute_reply": "2021-02-13T14:48:47.499476Z"
    },
    "id": "RfpkKXFR7yWu",
    "outputId": "28f2b2e5-56fa-416b-a0ff-51a0cc654937",
    "papermill": {
     "duration": 0.061772,
     "end_time": "2021-02-13T14:48:47.499769",
     "exception": false,
     "start_time": "2021-02-13T14:48:47.437997",
     "status": "completed"
    },
    "tags": []
   },
   "outputs": [
    {
     "name": "stdout",
     "output_type": "stream",
     "text": [
      "The shape of the independent fatures are  (10, 5)\n",
      "The shape of the dependent fatures are  (10, 1)\n"
     ]
    }
   ],
   "source": [
    "#Get the shapes of X and y\n",
    "print(\"The shape of the independent fatures are \",X_poly_sk.shape)\n",
    "print(\"The shape of the dependent fatures are \",y_sk.shape)"
   ]
  },
  {
   "cell_type": "code",
   "execution_count": 44,
   "metadata": {
    "execution": {
     "iopub.execute_input": "2021-02-13T14:48:47.610590Z",
     "iopub.status.busy": "2021-02-13T14:48:47.609415Z",
     "iopub.status.idle": "2021-02-13T14:48:47.615201Z",
     "shell.execute_reply": "2021-02-13T14:48:47.614565Z"
    },
    "id": "gngrHYRGT3aR",
    "outputId": "9b2eca00-eca4-4678-b378-648f3965ab55",
    "papermill": {
     "duration": 0.062684,
     "end_time": "2021-02-13T14:48:47.615403",
     "exception": false,
     "start_time": "2021-02-13T14:48:47.552719",
     "status": "completed"
    },
    "tags": []
   },
   "outputs": [
    {
     "data": {
      "text/plain": [
       "array([[1.000e+00, 1.000e+00, 1.000e+00, 1.000e+00, 1.000e+00],\n",
       "       [1.000e+00, 2.000e+00, 4.000e+00, 8.000e+00, 1.600e+01],\n",
       "       [1.000e+00, 3.000e+00, 9.000e+00, 2.700e+01, 8.100e+01],\n",
       "       [1.000e+00, 4.000e+00, 1.600e+01, 6.400e+01, 2.560e+02],\n",
       "       [1.000e+00, 5.000e+00, 2.500e+01, 1.250e+02, 6.250e+02],\n",
       "       [1.000e+00, 6.000e+00, 3.600e+01, 2.160e+02, 1.296e+03],\n",
       "       [1.000e+00, 7.000e+00, 4.900e+01, 3.430e+02, 2.401e+03],\n",
       "       [1.000e+00, 8.000e+00, 6.400e+01, 5.120e+02, 4.096e+03],\n",
       "       [1.000e+00, 9.000e+00, 8.100e+01, 7.290e+02, 6.561e+03],\n",
       "       [1.000e+00, 1.000e+01, 1.000e+02, 1.000e+03, 1.000e+04]])"
      ]
     },
     "execution_count": 44,
     "metadata": {},
     "output_type": "execute_result"
    }
   ],
   "source": [
    "X_poly_sk"
   ]
  },
  {
   "cell_type": "markdown",
   "metadata": {
    "id": "HHBdiwMyo8c0",
    "papermill": {
     "duration": 0.049737,
     "end_time": "2021-02-13T14:48:47.714808",
     "exception": false,
     "start_time": "2021-02-13T14:48:47.665071",
     "status": "completed"
    },
    "tags": []
   },
   "source": [
    "### Polynomial Regression"
   ]
  },
  {
   "cell_type": "code",
   "execution_count": 45,
   "metadata": {
    "execution": {
     "iopub.execute_input": "2021-02-13T14:48:47.816329Z",
     "iopub.status.busy": "2021-02-13T14:48:47.815623Z",
     "iopub.status.idle": "2021-02-13T14:48:47.822210Z",
     "shell.execute_reply": "2021-02-13T14:48:47.821578Z"
    },
    "id": "y2SAKXOUo07O",
    "papermill": {
     "duration": 0.058676,
     "end_time": "2021-02-13T14:48:47.822395",
     "exception": false,
     "start_time": "2021-02-13T14:48:47.763719",
     "status": "completed"
    },
    "tags": []
   },
   "outputs": [],
   "source": [
    "# Splitting the dataset into the Training set and Test set\n",
    "X_train_sk, X_test_sk, y_train_sk, y_test_sk = train_test_split(X_poly_sk, y_sk, test_size = 0.2, random_state = 0)"
   ]
  },
  {
   "cell_type": "code",
   "execution_count": 46,
   "metadata": {
    "execution": {
     "iopub.execute_input": "2021-02-13T14:48:47.921603Z",
     "iopub.status.busy": "2021-02-13T14:48:47.920873Z",
     "iopub.status.idle": "2021-02-13T14:48:47.946501Z",
     "shell.execute_reply": "2021-02-13T14:48:47.945914Z"
    },
    "id": "M_ZxKwyzpAuo",
    "outputId": "be5437c9-3d8e-4971-80c2-933f249ba80e",
    "papermill": {
     "duration": 0.076481,
     "end_time": "2021-02-13T14:48:47.946670",
     "exception": false,
     "start_time": "2021-02-13T14:48:47.870189",
     "status": "completed"
    },
    "tags": []
   },
   "outputs": [
    {
     "data": {
      "text/plain": [
       "LinearRegression()"
      ]
     },
     "execution_count": 46,
     "metadata": {},
     "output_type": "execute_result"
    }
   ],
   "source": [
    "# Fitting Simple Linear Regression to the Training set\n",
    "regressor_sk = LinearRegression()\n",
    "regressor_sk.fit(X_train_sk, y_train_sk)"
   ]
  },
  {
   "cell_type": "markdown",
   "metadata": {
    "id": "WjeXeDr1UWVp",
    "papermill": {
     "duration": 0.048091,
     "end_time": "2021-02-13T14:48:48.042978",
     "exception": false,
     "start_time": "2021-02-13T14:48:47.994887",
     "status": "completed"
    },
    "tags": []
   },
   "source": [
    "#### Visualizing the results"
   ]
  },
  {
   "cell_type": "code",
   "execution_count": 47,
   "metadata": {
    "execution": {
     "iopub.execute_input": "2021-02-13T14:48:48.144349Z",
     "iopub.status.busy": "2021-02-13T14:48:48.143369Z",
     "iopub.status.idle": "2021-02-13T14:48:48.314791Z",
     "shell.execute_reply": "2021-02-13T14:48:48.315292Z"
    },
    "id": "W3kkUQvJUaVD",
    "outputId": "7af96588-ba64-4482-943b-1038821f3633",
    "papermill": {
     "duration": 0.224102,
     "end_time": "2021-02-13T14:48:48.315495",
     "exception": false,
     "start_time": "2021-02-13T14:48:48.091393",
     "status": "completed"
    },
    "tags": []
   },
   "outputs": [
    {
     "data": {
      "image/png": "[encoded data removed]",
      "text/plain": [
       "<Figure size 432x288 with 1 Axes>"
      ]
     },
     "metadata": {
      "needs_background": "light"
     },
     "output_type": "display_data"
    }
   ],
   "source": [
    "plt.scatter(X_poly_sk[:,1], y, color = 'red')\n",
    "plt.plot(X_poly_sk[:,1], regressor_sk.predict(X_poly_sk), color = 'blue')\n",
    "plt.title('Sklearn regression')\n",
    "plt.xlabel('Position level')\n",
    "plt.ylabel('Salary')\n",
    "plt.show()"
   ]
  },
  {
   "cell_type": "markdown",
   "metadata": {
    "id": "-cdYj7q_eNl2",
    "papermill": {
     "duration": 0.049796,
     "end_time": "2021-02-13T14:48:48.413998",
     "exception": false,
     "start_time": "2021-02-13T14:48:48.364202",
     "status": "completed"
    },
    "tags": []
   },
   "source": [
    "Definitely, you can download this notebook and change hyperparameters, Optimization Algorithm, etc. to improve the performance of the model and start your ML Journey!\n",
    "\n",
    "**Best of Luck!**\n",
    "\n"
   ]
  }
 ],
 "metadata": {
  "kernelspec": {
   "display_name": "Python 3 (ipykernel)",
   "language": "python",
   "name": "python3"
  },
  "language_info": {
   "codemirror_mode": {
    "name": "ipython",
    "version": 3
   },
   "file_extension": ".py",
   "mimetype": "text/x-python",
   "name": "python",
   "nbconvert_exporter": "python",
   "pygments_lexer": "ipython3",
   "version": "3.9.7"
  },
  "papermill": {
   "default_parameters": {},
   "duration": 15.712891,
   "end_time": "2021-02-13T14:48:49.174989",
   "environment_variables": {},
   "exception": null,
   "input_path": "__notebook__.ipynb",
   "output_path": "__notebook__.ipynb",
   "parameters": {},
   "start_time": "2021-02-13T14:48:33.462098",
   "version": "2.2.2"
  }
 },
 "nbformat": 4,
 "nbformat_minor": 4
}
