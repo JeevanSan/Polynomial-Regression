{
 "cells": [
  {
   "cell_type": "code",
   "execution_count": null,
   "id": "f67e2622",
   "metadata": {},
   "outputs": [],
   "source": [
    "import numpy as np\n",
    "\n",
    "class PolynomialRegression:\n",
    "    def __init__(self, degree=1):\n",
    "        self.degree = degree\n",
    "        self.theta = None\n",
    "\n",
    "    def _create_design_matrix(self, X):\n",
    "        n = len(X)\n",
    "        X_design = np.ones((n, 1))\n",
    "        for i in range(1, self.degree + 1):\n",
    "            X_design = np.hstack((X_design, X ** i))\n",
    "        return X_design\n",
    "\n",
    "    def fit(self, X, y):\n",
    "        X_design = self._create_design_matrix(X)\n",
    "        self.theta = np.linalg.inv(X_design.T @ X_design) @ X_design.T @ y\n",
    "\n",
    "    def predict(self, X):\n",
    "        X_design = self._create_design_matrix(X)\n",
    "        y_pred = X_design @ self.theta\n",
    "        return y_pred\n",
    "    \n",
    "    def forward(self,X,y,W):\n",
    "        y_pred = sum(W * X)\n",
    "    loss = ((y_pred-y)**2)/2    #Loss = Squared Error, we introduce 1/2 for ease in the calculation\n",
    "    return loss, y_pred\n",
    "\n",
    "    def updateWeights(self,X,y_pred,y_true,W,alpha,index):\n",
    "        for i in range(X.shape[1]):\n",
    "      #alpha = learning rate, rest of the RHS is derivative of loss function\n",
    "      W[i] -= (alpha * (y_pred-y_true[index])*X[index][i]) \n",
    "    return W\n",
    "\n"
   ]
  }
 ],
 "metadata": {
  "kernelspec": {
   "display_name": "Python 3 (ipykernel)",
   "language": "python",
   "name": "python3"
  },
  "language_info": {
   "codemirror_mode": {
    "name": "ipython",
    "version": 3
   },
   "file_extension": ".py",
   "mimetype": "text/x-python",
   "name": "python",
   "nbconvert_exporter": "python",
   "pygments_lexer": "ipython3",
   "version": "3.9.7"
  }
 },
 "nbformat": 4,
 "nbformat_minor": 5
}
