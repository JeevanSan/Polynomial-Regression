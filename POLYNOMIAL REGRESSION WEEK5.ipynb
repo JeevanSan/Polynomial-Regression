{
 "cells": [
  {
   "cell_type": "code",
   "execution_count": 37,
   "id": "b78ef515",
   "metadata": {},
   "outputs": [],
   "source": [
    "import numpy as np\n",
    "import pandas as pd\n",
    "from random import seed\n",
    "from random import randrange"
   ]
  },
  {
   "cell_type": "code",
   "execution_count": 38,
   "id": "7a1bbb7e",
   "metadata": {},
   "outputs": [],
   "source": [
    "# Load the Boston dataset\n",
    "boston = pd.read_csv(\"https://archive.ics.uci.edu/ml/machine-learning-databases/housing/housing.data\", header=None, sep=\"\\s+\")\n",
    "boston.columns = ['CRIM', 'ZN', 'INDUS', 'CHAS', 'NOX', 'RM', 'AGE', 'DIS', 'RAD', 'TAX', 'PTRATIO', 'B', 'LSTAT', 'MEDV']\n"
   ]
  },
  {
   "cell_type": "code",
   "execution_count": 39,
   "id": "8b33473b",
   "metadata": {},
   "outputs": [],
   "source": [
    "# Split the data into training and testing sets\n",
    "def train_test_split(data, test_size):\n",
    "    data = data.to_numpy()\n",
    "    train_size = int((1-test_size) * len(data))\n",
    "    train_data = []\n",
    "    test_data = list(data)\n",
    "    while len(train_data) < train_size:\n",
    "        index = randrange(len(test_data))\n",
    "        train_data.append(test_data.pop(index))\n",
    "    return np.array(train_data), np.array(test_data)\n",
    "\n",
    "train_data, test_data = train_test_split(boston, 0.2)"
   ]
  },
  {
   "cell_type": "code",
   "execution_count": 40,
   "id": "e83021e2",
   "metadata": {},
   "outputs": [],
   "source": [
    "# Define a function to create polynomial features of a given degree\n",
    "def polynomial_features(X, degree):\n",
    "    n_samples, n_features = np.shape(X)\n",
    "    result = np.ones((n_samples, 1))\n",
    "    for d in range(n_features):\n",
    "        for i in range(1, degree+1):\n",
    "            result = np.concatenate((result, np.power(X[:, d:d+1], i)), axis=1)\n",
    "    return result"
   ]
  },
  {
   "cell_type": "code",
   "execution_count": 41,
   "id": "3309c9d3",
   "metadata": {},
   "outputs": [],
   "source": [
    "# Define a function to normalize the data\n",
    "def normalize(X):\n",
    "    means = np.mean(X, axis=0)\n",
    "    stds = np.std(X, axis=0)\n",
    "    return (X - means) / stds"
   ]
  },
  {
   "cell_type": "code",
   "execution_count": 42,
   "id": "15db2ec2",
   "metadata": {},
   "outputs": [],
   "source": [
    "# Define a function to fit a linear regression model using normal equations\n",
    "def fit(X, y):\n",
    "    X_transpose = np.transpose(X)\n",
    "    X_transpose_dot_X = np.dot(X_transpose, X)\n",
    "    X_transpose_dot_y = np.dot(X_transpose, y)\n",
    "    theta = np.dot(np.linalg.inv(X_transpose_dot_X), X_transpose_dot_y)\n",
    "    return theta"
   ]
  },
  {
   "cell_type": "code",
   "execution_count": 43,
   "id": "bf938adc",
   "metadata": {},
   "outputs": [],
   "source": [
    "# Define a function to make predictions on new data\n",
    "def predict(X, theta):\n",
    "    return np.dot(X, theta)"
   ]
  },
  {
   "cell_type": "code",
   "execution_count": 45,
   "id": "04bfb8a7",
   "metadata": {},
   "outputs": [],
   "source": [
    "# Create polynomial features of degree 2 for the training data\n",
    "X_train = train_data[:, :-1]\n",
    "y_train = train_data[:, -1:]\n",
    "X_train_poly = polynomial_features(normalize(X_train), degree=2)"
   ]
  },
  {
   "cell_type": "code",
   "execution_count": 46,
   "id": "cd4d8fdd",
   "metadata": {},
   "outputs": [],
   "source": [
    "# Fit a linear regression model to the polynomial features\n",
    "theta = fit(X_train_poly, y_train)"
   ]
  },
  {
   "cell_type": "code",
   "execution_count": 47,
   "id": "e2d21e6d",
   "metadata": {},
   "outputs": [],
   "source": [
    "# Create polynomial features of degree 2 for the test data\n",
    "X_test = test_data[:, :-1]\n",
    "y_test = test_data[:, -1:]\n",
    "X_test_poly = polynomial_features(normalize(X_test), degree=2)"
   ]
  },
  {
   "cell_type": "code",
   "execution_count": 48,
   "id": "182d9ec2",
   "metadata": {},
   "outputs": [],
   "source": [
    "# Make predictions on the test data\n",
    "y_pred = predict(X_test_poly, theta)"
   ]
  },
  {
   "cell_type": "code",
   "execution_count": 49,
   "id": "8fed6a44",
   "metadata": {},
   "outputs": [
    {
     "data": {
      "text/plain": [
       "array([[14.59368615],\n",
       "       [12.43105578],\n",
       "       [12.57161551],\n",
       "       [13.09783412],\n",
       "       [12.41926934],\n",
       "       [17.59251226],\n",
       "       [12.40260821],\n",
       "       [11.89257323],\n",
       "       [28.11673009],\n",
       "       [20.01724436],\n",
       "       [27.33439974],\n",
       "       [22.62729629],\n",
       "       [37.15855474],\n",
       "       [17.09485628],\n",
       "       [24.36952475],\n",
       "       [22.72016225],\n",
       "       [23.72359445],\n",
       "       [18.81653978],\n",
       "       [19.71546398],\n",
       "       [29.53869429],\n",
       "       [23.96162005],\n",
       "       [24.27294252],\n",
       "       [21.58881087],\n",
       "       [21.2284506 ],\n",
       "       [17.09619208],\n",
       "       [15.9868121 ],\n",
       "       [17.31344151],\n",
       "       [16.79402322],\n",
       "       [13.68213568],\n",
       "       [12.14799159],\n",
       "       [13.57467154],\n",
       "       [13.68339694],\n",
       "       [11.13881629],\n",
       "       [16.4187739 ],\n",
       "       [19.224164  ],\n",
       "       [25.16338118],\n",
       "       [24.8149546 ],\n",
       "       [26.91614452],\n",
       "       [28.37394321],\n",
       "       [35.68052863],\n",
       "       [25.7921591 ],\n",
       "       [38.90157678],\n",
       "       [32.31999692],\n",
       "       [31.18909296],\n",
       "       [40.69509007],\n",
       "       [19.13373273],\n",
       "       [21.43595591],\n",
       "       [18.20524416],\n",
       "       [18.38438182],\n",
       "       [43.01144303],\n",
       "       [32.57312247],\n",
       "       [43.02450888],\n",
       "       [28.42019755],\n",
       "       [27.81953304],\n",
       "       [23.81580092],\n",
       "       [21.67921395],\n",
       "       [28.52897333],\n",
       "       [16.85338261],\n",
       "       [53.14134626],\n",
       "       [35.90927478],\n",
       "       [32.98441808],\n",
       "       [31.35257639],\n",
       "       [29.93484348],\n",
       "       [33.24766007],\n",
       "       [31.9816866 ],\n",
       "       [25.60340392],\n",
       "       [32.60007451],\n",
       "       [35.7585791 ],\n",
       "       [27.13124385],\n",
       "       [19.28739182],\n",
       "       [23.03530782],\n",
       "       [23.26923417],\n",
       "       [23.39140158],\n",
       "       [25.04826298],\n",
       "       [16.18887906],\n",
       "       [24.92130713],\n",
       "       [21.89174713],\n",
       "       [13.31270084],\n",
       "       [14.59280786],\n",
       "       [13.3440872 ],\n",
       "       [14.48813098],\n",
       "       [13.93625666],\n",
       "       [16.8254442 ],\n",
       "       [16.5561614 ],\n",
       "       [12.24574973],\n",
       "       [ 8.12794359],\n",
       "       [15.28615362],\n",
       "       [14.97122514],\n",
       "       [16.35142702],\n",
       "       [15.11051385],\n",
       "       [ 8.79593493],\n",
       "       [10.92684584],\n",
       "       [14.81786211],\n",
       "       [16.78718513],\n",
       "       [19.89601187],\n",
       "       [16.90102362],\n",
       "       [16.94580098],\n",
       "       [17.35596528],\n",
       "       [28.77616078],\n",
       "       [12.39657672],\n",
       "       [15.6459541 ],\n",
       "       [16.27764682]])"
      ]
     },
     "execution_count": 49,
     "metadata": {},
     "output_type": "execute_result"
    }
   ],
   "source": [
    "y_pred"
   ]
  },
  {
   "cell_type": "code",
   "execution_count": 50,
   "id": "e551182d",
   "metadata": {},
   "outputs": [
    {
     "name": "stdout",
     "output_type": "stream",
     "text": [
      "R-squared score: 0.7472965009477666\n"
     ]
    }
   ],
   "source": [
    "# Calculate the R-squared score\n",
    "y_mean = np.mean(y_test)\n",
    "ss_tot = np.sum(np.power(y_test - y_mean, 2))\n",
    "ss_res = np.sum(np.power(y_test - y_pred, 2))\n",
    "r_squared = 1 - (ss_res / ss_tot)\n",
    "print(\"R-squared score:\", r_squared)"
   ]
  },
  {
   "cell_type": "code",
   "execution_count": null,
   "id": "feb76796",
   "metadata": {},
   "outputs": [],
   "source": []
  }
 ],
 "metadata": {
  "kernelspec": {
   "display_name": "Python 3 (ipykernel)",
   "language": "python",
   "name": "python3"
  },
  "language_info": {
   "codemirror_mode": {
    "name": "ipython",
    "version": 3
   },
   "file_extension": ".py",
   "mimetype": "text/x-python",
   "name": "python",
   "nbconvert_exporter": "python",
   "pygments_lexer": "ipython3",
   "version": "3.9.7"
  }
 },
 "nbformat": 4,
 "nbformat_minor": 5
}
